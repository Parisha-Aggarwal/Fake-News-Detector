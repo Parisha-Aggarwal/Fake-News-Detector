{
 "cells": [
  {
   "cell_type": "code",
   "execution_count": 1,
   "id": "97679f92-4e20-410d-828a-7c6046d4ebaf",
   "metadata": {},
   "outputs": [],
   "source": [
    "import re\n",
    "import numpy as np\n",
    "from sklearn.ensemble import RandomForestClassifier\n",
    "from sklearn.svm import SVC\n",
    "import pandas as pd\n",
    "# plotting\n",
    "import seaborn as sns\n",
    "from wordcloud import WordCloud\n",
    "import matplotlib.pyplot as plt\n",
    "# nltk\n",
    "from nltk.stem.porter import PorterStemmer\n",
    "from nltk.stem import WordNetLemmatizer\n",
    "from nltk.corpus import stopwords\n",
    "# sklearn\n",
    "# from sklearn.svm import LinearSVC\n",
    "# from sklearn.naive_bayes import BernoulliNB\n",
    "from sklearn.linear_model import LogisticRegression\n",
    "from sklearn.model_selection import train_test_split\n",
    "from sklearn.feature_extraction.text import TfidfVectorizer\n",
    "from sklearn.metrics import confusion_matrix, classification_report,accuracy_score"
   ]
  },
  {
   "cell_type": "code",
   "execution_count": 2,
   "id": "0b6245b0-0216-46b9-8e32-2c8a6e518a0f",
   "metadata": {},
   "outputs": [
    {
     "name": "stderr",
     "output_type": "stream",
     "text": [
      "[nltk_data] Downloading package stopwords to\n",
      "[nltk_data]     C:\\Users\\HP\\AppData\\Roaming\\nltk_data...\n",
      "[nltk_data]   Package stopwords is already up-to-date!\n"
     ]
    },
    {
     "data": {
      "text/plain": [
       "True"
      ]
     },
     "execution_count": 2,
     "metadata": {},
     "output_type": "execute_result"
    }
   ],
   "source": [
    "import nltk\n",
    "nltk.download('stopwords')"
   ]
  },
  {
   "cell_type": "code",
   "execution_count": 3,
   "id": "646e235b-9e0f-4dba-90b3-00b2d3731cf4",
   "metadata": {},
   "outputs": [
    {
     "name": "stdout",
     "output_type": "stream",
     "text": [
      "['i', 'me', 'my', 'myself', 'we', 'our', 'ours', 'ourselves', 'you', \"you're\", \"you've\", \"you'll\", \"you'd\", 'your', 'yours', 'yourself', 'yourselves', 'he', 'him', 'his', 'himself', 'she', \"she's\", 'her', 'hers', 'herself', 'it', \"it's\", 'its', 'itself', 'they', 'them', 'their', 'theirs', 'themselves', 'what', 'which', 'who', 'whom', 'this', 'that', \"that'll\", 'these', 'those', 'am', 'is', 'are', 'was', 'were', 'be', 'been', 'being', 'have', 'has', 'had', 'having', 'do', 'does', 'did', 'doing', 'a', 'an', 'the', 'and', 'but', 'if', 'or', 'because', 'as', 'until', 'while', 'of', 'at', 'by', 'for', 'with', 'about', 'against', 'between', 'into', 'through', 'during', 'before', 'after', 'above', 'below', 'to', 'from', 'up', 'down', 'in', 'out', 'on', 'off', 'over', 'under', 'again', 'further', 'then', 'once', 'here', 'there', 'when', 'where', 'why', 'how', 'all', 'any', 'both', 'each', 'few', 'more', 'most', 'other', 'some', 'such', 'no', 'nor', 'not', 'only', 'own', 'same', 'so', 'than', 'too', 'very', 's', 't', 'can', 'will', 'just', 'don', \"don't\", 'should', \"should've\", 'now', 'd', 'll', 'm', 'o', 're', 've', 'y', 'ain', 'aren', \"aren't\", 'couldn', \"couldn't\", 'didn', \"didn't\", 'doesn', \"doesn't\", 'hadn', \"hadn't\", 'hasn', \"hasn't\", 'haven', \"haven't\", 'isn', \"isn't\", 'ma', 'mightn', \"mightn't\", 'mustn', \"mustn't\", 'needn', \"needn't\", 'shan', \"shan't\", 'shouldn', \"shouldn't\", 'wasn', \"wasn't\", 'weren', \"weren't\", 'won', \"won't\", 'wouldn', \"wouldn't\"]\n"
     ]
    }
   ],
   "source": [
    "print(stopwords.words('english'))"
   ]
  },
  {
   "cell_type": "code",
   "execution_count": 4,
   "id": "ae8066d2-6d4f-4da7-9019-fce57d36cab0",
   "metadata": {},
   "outputs": [
    {
     "data": {
      "text/html": [
       "<div>\n",
       "<style scoped>\n",
       "    .dataframe tbody tr th:only-of-type {\n",
       "        vertical-align: middle;\n",
       "    }\n",
       "\n",
       "    .dataframe tbody tr th {\n",
       "        vertical-align: top;\n",
       "    }\n",
       "\n",
       "    .dataframe thead th {\n",
       "        text-align: right;\n",
       "    }\n",
       "</style>\n",
       "<table border=\"1\" class=\"dataframe\">\n",
       "  <thead>\n",
       "    <tr style=\"text-align: right;\">\n",
       "      <th></th>\n",
       "      <th>id</th>\n",
       "      <th>title</th>\n",
       "      <th>text</th>\n",
       "      <th>label</th>\n",
       "    </tr>\n",
       "  </thead>\n",
       "  <tbody>\n",
       "    <tr>\n",
       "      <th>0</th>\n",
       "      <td>0</td>\n",
       "      <td>LAW ENFORCEMENT ON HIGH ALERT Following Threat...</td>\n",
       "      <td>No comment is expected from Barack Obama Membe...</td>\n",
       "      <td>1</td>\n",
       "    </tr>\n",
       "    <tr>\n",
       "      <th>1</th>\n",
       "      <td>1</td>\n",
       "      <td>NaN</td>\n",
       "      <td>Did they post their votes for Hillary already?</td>\n",
       "      <td>1</td>\n",
       "    </tr>\n",
       "    <tr>\n",
       "      <th>2</th>\n",
       "      <td>2</td>\n",
       "      <td>UNBELIEVABLE! OBAMAâS ATTORNEY GENERAL SAYS ...</td>\n",
       "      <td>Now, most of the demonstrators gathered last ...</td>\n",
       "      <td>1</td>\n",
       "    </tr>\n",
       "    <tr>\n",
       "      <th>3</th>\n",
       "      <td>3</td>\n",
       "      <td>Bobby Jindal, raised Hindu, uses story of Chri...</td>\n",
       "      <td>A dozen politically active pastors came here f...</td>\n",
       "      <td>0</td>\n",
       "    </tr>\n",
       "    <tr>\n",
       "      <th>4</th>\n",
       "      <td>4</td>\n",
       "      <td>SATAN 2: Russia unvelis an image of its terrif...</td>\n",
       "      <td>The RS-28 Sarmat missile, dubbed Satan 2, will...</td>\n",
       "      <td>1</td>\n",
       "    </tr>\n",
       "  </tbody>\n",
       "</table>\n",
       "</div>"
      ],
      "text/plain": [
       "   id                                              title  \\\n",
       "0   0  LAW ENFORCEMENT ON HIGH ALERT Following Threat...   \n",
       "1   1                                                NaN   \n",
       "2   2  UNBELIEVABLE! OBAMAâS ATTORNEY GENERAL SAYS ...   \n",
       "3   3  Bobby Jindal, raised Hindu, uses story of Chri...   \n",
       "4   4  SATAN 2: Russia unvelis an image of its terrif...   \n",
       "\n",
       "                                                text  label  \n",
       "0  No comment is expected from Barack Obama Membe...      1  \n",
       "1     Did they post their votes for Hillary already?      1  \n",
       "2   Now, most of the demonstrators gathered last ...      1  \n",
       "3  A dozen politically active pastors came here f...      0  \n",
       "4  The RS-28 Sarmat missile, dubbed Satan 2, will...      1  "
      ]
     },
     "execution_count": 4,
     "metadata": {},
     "output_type": "execute_result"
    }
   ],
   "source": [
    "newsdata = pd.read_csv('Fake_news.csv',encoding= \"ISO-8859-1\")\n",
    "newsdata.head()"
   ]
  },
  {
   "cell_type": "code",
   "execution_count": 5,
   "id": "c3e3dc99-38b7-402c-986a-8f0eed1d7e66",
   "metadata": {},
   "outputs": [
    {
     "name": "stdout",
     "output_type": "stream",
     "text": [
      "3867\n"
     ]
    }
   ],
   "source": [
    "print(len(newsdata))"
   ]
  },
  {
   "cell_type": "code",
   "execution_count": 6,
   "id": "3fcde295-cfdc-4eb0-b725-5b123572af91",
   "metadata": {},
   "outputs": [],
   "source": [
    "newsdata['id'] = range(1, len(newsdata) + 1)   # correcting the order of id "
   ]
  },
  {
   "cell_type": "code",
   "execution_count": 7,
   "id": "70cc0f50-26ee-40e8-b6c2-4701c26a96dc",
   "metadata": {},
   "outputs": [
    {
     "data": {
      "text/html": [
       "<div>\n",
       "<style scoped>\n",
       "    .dataframe tbody tr th:only-of-type {\n",
       "        vertical-align: middle;\n",
       "    }\n",
       "\n",
       "    .dataframe tbody tr th {\n",
       "        vertical-align: top;\n",
       "    }\n",
       "\n",
       "    .dataframe thead th {\n",
       "        text-align: right;\n",
       "    }\n",
       "</style>\n",
       "<table border=\"1\" class=\"dataframe\">\n",
       "  <thead>\n",
       "    <tr style=\"text-align: right;\">\n",
       "      <th></th>\n",
       "      <th>id</th>\n",
       "      <th>title</th>\n",
       "      <th>text</th>\n",
       "      <th>label</th>\n",
       "    </tr>\n",
       "  </thead>\n",
       "  <tbody>\n",
       "    <tr>\n",
       "      <th>189</th>\n",
       "      <td>190</td>\n",
       "      <td>Places to Put Your Hands Together - The New Yo...</td>\n",
       "      <td>Whether the music to your ears is pop, classic...</td>\n",
       "      <td>0</td>\n",
       "    </tr>\n",
       "    <tr>\n",
       "      <th>190</th>\n",
       "      <td>191</td>\n",
       "      <td>United resumes Newark-Delhi flights after halt...</td>\n",
       "      <td>NEW YORK/SINGAPORE (Reuters) - United Airlines...</td>\n",
       "      <td>0</td>\n",
       "    </tr>\n",
       "    <tr>\n",
       "      <th>191</th>\n",
       "      <td>192</td>\n",
       "      <td>Gallery Hopes to Sell Kanye Westâs âFamous...</td>\n",
       "      <td>LOS ANGELES  â   Four million dollars. Thatâ...</td>\n",
       "      <td>0</td>\n",
       "    </tr>\n",
       "    <tr>\n",
       "      <th>192</th>\n",
       "      <td>193</td>\n",
       "      <td>RUDY GIULIANI SLAMS HILLARY After She Refuses ...</td>\n",
       "      <td>What in the world has become of the Democrat P...</td>\n",
       "      <td>1</td>\n",
       "    </tr>\n",
       "    <tr>\n",
       "      <th>193</th>\n",
       "      <td>194</td>\n",
       "      <td>Mistrial for 2 Ex-Officers in Albuquerque Kill...</td>\n",
       "      <td>ALBUQUERQUE  â   After two full days of deli...</td>\n",
       "      <td>0</td>\n",
       "    </tr>\n",
       "    <tr>\n",
       "      <th>...</th>\n",
       "      <td>...</td>\n",
       "      <td>...</td>\n",
       "      <td>...</td>\n",
       "      <td>...</td>\n",
       "    </tr>\n",
       "    <tr>\n",
       "      <th>345</th>\n",
       "      <td>346</td>\n",
       "      <td>Ecuador Votes as Latin Americaâs Left Sags, ...</td>\n",
       "      <td>QUITO, Ecuador  â   For most of Luis GarcÃ­a...</td>\n",
       "      <td>0</td>\n",
       "    </tr>\n",
       "    <tr>\n",
       "      <th>346</th>\n",
       "      <td>347</td>\n",
       "      <td>Gavel Battle: Boehner resignation sparks House...</td>\n",
       "      <td>House Speaker John Boehnerâs stunning announ...</td>\n",
       "      <td>0</td>\n",
       "    </tr>\n",
       "    <tr>\n",
       "      <th>347</th>\n",
       "      <td>348</td>\n",
       "      <td>OBAMA RACES TO SET GITMO TERRORISTS FREEâ¦Lea...</td>\n",
       "      <td>It s hard to imagine a President who could be ...</td>\n",
       "      <td>1</td>\n",
       "    </tr>\n",
       "    <tr>\n",
       "      <th>348</th>\n",
       "      <td>349</td>\n",
       "      <td>NEW POLL Asks Trump Voters If Theyâd Vote Fo...</td>\n",
       "      <td>One year later, and Donald Trump s supporters ...</td>\n",
       "      <td>1</td>\n",
       "    </tr>\n",
       "    <tr>\n",
       "      <th>349</th>\n",
       "      <td>350</td>\n",
       "      <td>PETITION TO STOP GEORGE SOROS VOTING MACHINES ...</td>\n",
       "      <td>posted by Eddie \\nA White House petition to re...</td>\n",
       "      <td>1</td>\n",
       "    </tr>\n",
       "  </tbody>\n",
       "</table>\n",
       "<p>161 rows × 4 columns</p>\n",
       "</div>"
      ],
      "text/plain": [
       "      id                                              title  \\\n",
       "189  190  Places to Put Your Hands Together - The New Yo...   \n",
       "190  191  United resumes Newark-Delhi flights after halt...   \n",
       "191  192  Gallery Hopes to Sell Kanye Westâs âFamous...   \n",
       "192  193  RUDY GIULIANI SLAMS HILLARY After She Refuses ...   \n",
       "193  194  Mistrial for 2 Ex-Officers in Albuquerque Kill...   \n",
       "..   ...                                                ...   \n",
       "345  346  Ecuador Votes as Latin Americaâs Left Sags, ...   \n",
       "346  347  Gavel Battle: Boehner resignation sparks House...   \n",
       "347  348  OBAMA RACES TO SET GITMO TERRORISTS FREEâ¦Lea...   \n",
       "348  349  NEW POLL Asks Trump Voters If Theyâd Vote Fo...   \n",
       "349  350  PETITION TO STOP GEORGE SOROS VOTING MACHINES ...   \n",
       "\n",
       "                                                  text  label  \n",
       "189  Whether the music to your ears is pop, classic...      0  \n",
       "190  NEW YORK/SINGAPORE (Reuters) - United Airlines...      0  \n",
       "191  LOS ANGELES  â   Four million dollars. Thatâ...      0  \n",
       "192  What in the world has become of the Democrat P...      1  \n",
       "193  ALBUQUERQUE  â   After two full days of deli...      0  \n",
       "..                                                 ...    ...  \n",
       "345  QUITO, Ecuador  â   For most of Luis GarcÃ­a...      0  \n",
       "346  House Speaker John Boehnerâs stunning announ...      0  \n",
       "347  It s hard to imagine a President who could be ...      1  \n",
       "348  One year later, and Donald Trump s supporters ...      1  \n",
       "349  posted by Eddie \\nA White House petition to re...      1  \n",
       "\n",
       "[161 rows x 4 columns]"
      ]
     },
     "execution_count": 7,
     "metadata": {},
     "output_type": "execute_result"
    }
   ],
   "source": [
    "newsdata.iloc[189:350]"
   ]
  },
  {
   "cell_type": "code",
   "execution_count": 15,
   "id": "0effb9a2-c752-487a-8be3-169a59cb6ffe",
   "metadata": {},
   "outputs": [],
   "source": [
    "port_stem= PorterStemmer()\n",
    "def stemming(content):\n",
    "    if isinstance(content, (float, int)):  # Check if content is a float or integer\n",
    "        content = str(content)  # Convert float or integer to string\n",
    "    elif content is None:  # Check if content is None\n",
    "        content = ''  # Convert None to empty string\n",
    "    else:\n",
    "        content = str(content)\n",
    "    stemmed_content = re.sub('[^a-zA-Z]',\" \",content)\n",
    "    stemmed_content = stemmed_content.lower()\n",
    "    stemmed_content=stemmed_content.split()\n",
    "    stemmed_content = [port_stem.stem(word) for word in stemmed_content if not word in stopwords.words('english')]\n",
    "    stemmed_content = ' '.join(stemmed_content)\n",
    "    \n",
    "    return stemmed_content"
   ]
  },
  {
   "cell_type": "code",
   "execution_count": 16,
   "id": "5643d31e-0a0a-4d38-b98f-404c0aaf2f8e",
   "metadata": {},
   "outputs": [],
   "source": [
    "newsdata['stemmed_content'] = newsdata['text'].apply(stemming)"
   ]
  },
  {
   "cell_type": "code",
   "execution_count": 17,
   "id": "a7884e72-536c-405d-9dfb-9417654ecdf9",
   "metadata": {},
   "outputs": [
    {
     "name": "stdout",
     "output_type": "stream",
     "text": [
      "0       comment expect barack obama member fyf fukyofl...\n",
      "1                               post vote hillari alreadi\n",
      "2       demonstr gather last night exercis constitut p...\n",
      "3       dozen polit activ pastor came privat dinner fr...\n",
      "4       rs sarmat missil dub satan replac ss fli mile ...\n",
      "                              ...                        \n",
      "3862    jona e alexi novemb putin result eros tradit n...\n",
      "3863    austin texa reuter former baylor univers presi...\n",
      "3864    atlanta exactli work art mythmak civil war his...\n",
      "3865    ladi liberti depict black women coin first tim...\n",
      "3866    solv problem like donald trump hillari clinton...\n",
      "Name: stemmed_content, Length: 3867, dtype: object\n"
     ]
    }
   ],
   "source": [
    "print(newsdata['stemmed_content'])"
   ]
  },
  {
   "cell_type": "code",
   "execution_count": 18,
   "id": "d0a94bb8-980c-448f-84a3-c8cf80ec90b8",
   "metadata": {},
   "outputs": [
    {
     "name": "stdout",
     "output_type": "stream",
     "text": [
      "3093 774 3093 774\n"
     ]
    }
   ],
   "source": [
    "X= newsdata['stemmed_content'].values\n",
    "Y=newsdata['label'].values\n",
    "X_train,X_test,Y_train,Y_test = train_test_split(X,Y,test_size=0.2,stratify=Y,random_state=2)\n",
    "print(X_train.size,X_test.size,Y_train.size,Y_test.size)"
   ]
  },
  {
   "cell_type": "code",
   "execution_count": 19,
   "id": "e4a8e004-568d-4b1e-b579-b723a6638e5d",
   "metadata": {},
   "outputs": [],
   "source": [
    "X_train_texts = [str(x) for x in X_train]\n",
    "vectorizer = TfidfVectorizer()\n",
    "X_train_transformed = vectorizer.fit_transform(X_train_texts)\n",
    "X_test_transformed= vectorizer.transform(X_test)"
   ]
  },
  {
   "cell_type": "code",
   "execution_count": 20,
   "id": "fdf81e1a-97e5-401e-9eed-7adb3dd8d69d",
   "metadata": {},
   "outputs": [
    {
     "name": "stdout",
     "output_type": "stream",
     "text": [
      "0.9996766892984158\n",
      "0.872093023255814\n"
     ]
    }
   ],
   "source": [
    "model = RandomForestClassifier(n_estimators=30)\n",
    "model.fit(X_train_transformed,Y_train)\n",
    "X_train_predicted = model.predict(X_train_transformed)\n",
    "accuracy = accuracy_score(Y_train,X_train_predicted)\n",
    "print(accuracy)\n",
    "X_test_predicted = model.predict(X_test_transformed)\n",
    "accuracy = accuracy_score(Y_test,X_test_predicted)\n",
    "print(accuracy)"
   ]
  },
  {
   "cell_type": "code",
   "execution_count": 26,
   "id": "fc09263e-1012-4397-80b1-90e20162ca0f",
   "metadata": {},
   "outputs": [
    {
     "name": "stdout",
     "output_type": "stream",
     "text": [
      "Fake news\n"
     ]
    }
   ],
   "source": [
    "new_input_text = \"WASHINGTON (Reuters) - Charles Schumer, the top Democrat in the U.S. Senate, called on President Donald Trump on Sunday to name a single official to oversee and coordinate relief efforts in hurricane-ravaged Puerto Rico. Schumer, along with Representatives Nydia VelÃ zquez and Jose Serrano, said a â€œCEO of response and recoveryâ€ is needed to manage the complex and ongoing federal response in the territory, where millions of Americans remain without power and supplies. In a statement, Schumer said the current federal response to Hurricane Mariaâ€™s impact on the island had been â€œdisorganized, slow-footed and mismanaged.â€ â€œThis person will have the ability to bring all the federal agencies together, cut red tape on the public and private side, help turn the lights back on, get clean water flowing and help bring about recovery for millions of Americans who have gone too long in some of the worst conditions,â€ he said. The White House did not immediately respond to a request for comment. The Democrats contended that naming a lone individual to manage the governmentâ€™s relief efforts was critical, particularly given that the Federal Emergency Management Agency is already stretched thin from dealing with other crises, such as the aftermath of Hurricane Harvey in Texas and the wildfires in California. The severity of the Puerto Rico crisis, where a million people do not have clean water and millions are without power nearly a month after Hurricane Maria made landfall, demand a single person to focus exclusively on relief and recovery, the Democrats said. Forty-nine people have died in Puerto Rico officially, with dozens more missing. The hurricane did extensive damage to the islandâ€™s power grid, destroying homes, roads and other vital infrastructure. Now, the bankrupt territory is struggling to provide basic services like running water, and pay its bills. â€œItâ€™s tragically clear this Administration was caught flat footed when Maria hit Puerto Rico,â€ said VelÃ zquez. â€œAppointing a CEO of Response and Recovery will, at last, put one person with authority in charge to manage the response and ensure we are finally getting the people of Puerto Rico the aid they need.â€ On Thursday, Trump said the federal response has been a â€œ10â€ on a scale of one to 10 at a meeting with Puerto Rico Governor Ricardo Rossello.  The governor has asked the White House and Congress for at least $4.6 billion in block grants and other types of funding. Senator Marco Rubio called on Congress to modify an $18.7 billion aid package for areas damaged by a recent swath of hurricanes to ensure that Puerto Rico can quickly access the funds. \"\n",
    "stemmed_input = stemming(new_input_text)\n",
    "input_transformed = vectorizer.transform([str(stemmed_input)])\n",
    "predicted_sentiment = model.predict(input_transformed)\n",
    "if predicted_sentiment[0] == 0:\n",
    "    print(\"Fake news\")\n",
    "else:\n",
    "    print(\"Real news\")"
   ]
  },
  {
   "cell_type": "code",
   "execution_count": 24,
   "id": "a3785866-1df2-4c01-83f4-635ed7e09f11",
   "metadata": {},
   "outputs": [],
   "source": [
    "import pickle\n",
    "with open('news_model.pkl', 'wb') as file:\n",
    "    pickle.dump(model, file)\n",
    "with open('news_vectorizer.pkl', 'wb') as file:\n",
    "    pickle.dump(vectorizer, file)"
   ]
  }
 ],
 "metadata": {
  "kernelspec": {
   "display_name": "Python 3 (ipykernel)",
   "language": "python",
   "name": "python3"
  },
  "language_info": {
   "codemirror_mode": {
    "name": "ipython",
    "version": 3
   },
   "file_extension": ".py",
   "mimetype": "text/x-python",
   "name": "python",
   "nbconvert_exporter": "python",
   "pygments_lexer": "ipython3",
   "version": "3.11.2"
  }
 },
 "nbformat": 4,
 "nbformat_minor": 5
}
